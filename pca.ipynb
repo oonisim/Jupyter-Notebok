{
 "cells": [
  {
   "cell_type": "markdown",
   "metadata": {},
   "source": [
    "# Primary Component Analysis (PCA)\n",
    "\n",
    "Using Scikit Learn, apply PCA to reduce the dimension of MNIST (28x28) \n",
    "\n",
    "## PCA Pre-requisite\n",
    "\n",
    "The dataset is centered around the origin. Scikit Learn PCA looks after centering the data. To do it manually by yourself with numpy.\n",
    "\n",
    "```\n",
    "X_centered = X - X.mean(axis=0)\n",
    "```"
   ]
  },
  {
   "cell_type": "markdown",
   "metadata": {},
   "source": [
    "# Basis\n",
    "\n",
    "## Diagonalization\n",
    "It is able to find the onthogonal bases, in the space of which the co-variances of the data becomes 0.\n",
    "\n",
    "<img align=\"left\" src=\"./images/pca/basis.diagonalization.png\" width=\"1000\">"
   ]
  },
  {
   "cell_type": "markdown",
   "metadata": {},
   "source": [
    "## Primary Components\n",
    "\n",
    "In that space, the variance along each basis is the contribution to the information that the data posseses. The basis along which the data has the maximum variance is the 1st primary component of the data. The basis that has 2nd maximum variance is the 2nd primary compoent, and so on. \n",
    "\n",
    "<img align=\"left\" src=\"./images/pca/basis.variance_is_contribution.png\" width=\"1000\"> "
   ]
  },
  {
   "cell_type": "markdown",
   "metadata": {},
   "source": [
    "## Eigenvectors\n",
    "\n",
    "Those onthogonal bases are the eigenvectors and the eigenvalues are the variances. Hence identifying Primary Comonents is calculating the eigenvectors and eigenvalues.\n",
    "\n",
    "<img align=\"left\" src=\"./images/pca/basis.variance_to_primary_component.png\" width=\"1000\"> \n"
   ]
  },
  {
   "cell_type": "markdown",
   "metadata": {},
   "source": [
    "## Map (Rorate & Extend)\n",
    "<img align=\"left\" src=\"./images/pca/basis.rotate_to_map.png\" width=\"400\"> "
   ]
  },
  {
   "cell_type": "markdown",
   "metadata": {},
   "source": [
    "## Transpose\n",
    "<img align=\"left\" src=\"./images/pca/VT.Semantic.png\" width=\"1000\"> "
   ]
  },
  {
   "cell_type": "markdown",
   "metadata": {},
   "source": [
    "# PCA\n",
    "\n",
    "The idea of PCA (Primary Component Analysis) is to identify the top <b>k</b> primary components and ignore the rest of the components, by which the dimentionality can be reduced from n to k.\n",
    "\n",
    "<img align=\"left\" src=\"./images/pca/pca.idea.png\" width=\"400\">"
   ]
  },
  {
   "cell_type": "markdown",
   "metadata": {},
   "source": [
    "Choose <b>k</b> which preseves 99% of the information of the data. <br/>\n",
    "\n",
    "<cite><b> Andrew Ng</b></cite>\n",
    "<pre>\n",
    "<img align=\"left\" src=\"./images/pca/andrew_ng_choosing_k.png\" width=\"500\">\n",
    "</pre>"
   ]
  },
  {
   "cell_type": "markdown",
   "metadata": {},
   "source": [
    "# SVD\n",
    "\n",
    "[We Recommend a Singular Value Decomposition](http://www.ams.org/publicoutreach/feature-column/fcarc-svd)<br>\n",
    "\n",
    "<img align=\"left\" src=\"./images/pca/onthgonal_to_onthogonal.png\" width=\"800\">"
   ]
  },
  {
   "cell_type": "markdown",
   "metadata": {},
   "source": [
    "With those (u, v), any matrix M, including a Covariance Matrix, can be decomposed as below.\n",
    "<br/>\n",
    "<img align=\"left\" src=\"./images/pca/SVD.png\" width=\"1000\">"
   ]
  },
  {
   "cell_type": "markdown",
   "metadata": {},
   "source": [
    "The eignvectors of PCA is the same with the singular vector of SVD. <br/>\n",
    "<img align=\"left\" src=\"./images/pca/PCA_SVD_Relation.png\" width=\"500\">"
   ]
  },
  {
   "cell_type": "code",
   "execution_count": null,
   "metadata": {},
   "outputs": [],
   "source": []
  }
 ],
 "metadata": {
  "kernelspec": {
   "display_name": "Python 3",
   "language": "python",
   "name": "python3"
  },
  "language_info": {
   "codemirror_mode": {
    "name": "ipython",
    "version": 3
   },
   "file_extension": ".py",
   "mimetype": "text/x-python",
   "name": "python",
   "nbconvert_exporter": "python",
   "pygments_lexer": "ipython3",
   "version": "3.7.4"
  }
 },
 "nbformat": 4,
 "nbformat_minor": 2
}
