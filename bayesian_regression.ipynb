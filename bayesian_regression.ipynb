{
 "cells": [
  {
   "cell_type": "markdown",
   "metadata": {},
   "source": [
    "# Bayesian linear regression"
   ]
  },
  {
   "cell_type": "code",
   "execution_count": 225,
   "metadata": {},
   "outputs": [],
   "source": [
    "import math\n",
    "import numpy as np\n",
    "import matplotlib.pyplot as plt\n",
    "%matplotlib inline"
   ]
  },
  {
   "cell_type": "markdown",
   "metadata": {},
   "source": [
    "# Observations"
   ]
  },
  {
   "cell_type": "code",
   "execution_count": 226,
   "metadata": {},
   "outputs": [],
   "source": [
    "# --------------------------------------------------------------------------------\n",
    "# Data generation utility\n",
    "# --------------------------------------------------------------------------------\n",
    "from numpy.random import rand\n",
    "def uniform_variable_generator(samples):\n",
    "    _random = rand(samples)\n",
    "    return _random\n",
    "\n",
    "def noise_generator(samples, mu=0.0, beta=0.1):\n",
    "    noise = np.random.normal(mu, beta, samples)\n",
    "    return noise\n",
    "\n",
    "def sigmoid(x):\n",
    "  return 1 / (1 + np.exp(-x))\n",
    "\n",
    "def generator_t_function(x):\n",
    "    return np.sin(x)\n",
    "    #return sigmoid(x)\n",
    "\n",
    "def generator_X_function(x):\n",
    "    return 2 * np.pi * x\n",
    "    #return 2 * np.pi * x\n",
    "\n",
    "# --------------------------------------------------------------------------------\n",
    "# Observations\n",
    "# --------------------------------------------------------------------------------\n",
    "#X = np.array([0.02, 0.12, 0.19, 0.27, 0.42, 0.51, 0.64, 0.84, 0.88, 0.99])\n",
    "#t = np.array([0.05, 0.87, 0.94, 0.92, 0.54, -0.11, -0.78, -0.79, -0.89, -0.04])\n",
    "samples = 30\n",
    "\n",
    "#X = np.array([0.02, 0.12, 0.19, 0.27, 0.42, 0.51, 0.64, 0.84, 0.88, 0.99])\n",
    "#t = np.array([0.05, 0.87, 0.94, 0.92, 0.54, -0.11, -0.78, -0.79, -0.89, -0.04])\n",
    "X = generator_X_function(uniform_variable_generator(samples))\n",
    "t = generator_t_function(X) + noise_generator(samples, beta=0.2)\n",
    "\n",
    "MAX_X = max(X)\n",
    "NUM_X = len(X)\n",
    "MAX_T = max(t)\n",
    "NUM_T = len(t)"
   ]
  },
  {
   "cell_type": "markdown",
   "metadata": {},
   "source": [
    "# Bayesian regresion"
   ]
  },
  {
   "cell_type": "code",
   "execution_count": 227,
   "metadata": {},
   "outputs": [],
   "source": [
    "# --------------------------------------------------------------------------------\n",
    "# Gaussian basis function\n",
    "# --------------------------------------------------------------------------------\n",
    "def gaussian(mean, sigma):\n",
    "    \"\"\"\n",
    "    Args:\n",
    "        mean:  \n",
    "        sigma: \n",
    "    \"\"\"\n",
    "    def _gaussian(x):\n",
    "        return np.exp(-0.5 * ((x - mean) / sigma) ** 2)\n",
    "    return _gaussian\n",
    "\n",
    "# --------------------------------------------------------------------------------\n",
    "# Design matrix\n",
    "# --------------------------------------------------------------------------------\n",
    "def phi(f, x): \n",
    "    bias = np.array([1])  # bias parameter(i = 0)\n",
    "    # bias+basis\n",
    "    return np.append(bias, f(x))"
   ]
  },
  {
   "cell_type": "code",
   "execution_count": 228,
   "metadata": {},
   "outputs": [],
   "source": [
    "# --------------------------------------------------------------------------------\n",
    "# Parameters\n",
    "# --------------------------------------------------------------------------------\n",
    "# mean of gaussian basis function (11 dimension w1, w2, ... w11)\n",
    "sigma = 0.1 * MAX_X\n",
    "mean = np.arange(0, MAX_X + sigma, sigma)  \n",
    "\n",
    "#alpha = 0.1 \n",
    "#beta = 9.0 \n",
    "alpha = 0.9 # larger alpha gives smaller w preventing overfitting (0 -> same with linear regression)\n",
    "beta = 0.9  # Small beta allows less variance (deviation)"
   ]
  },
  {
   "cell_type": "code",
   "execution_count": 229,
   "metadata": {},
   "outputs": [
    {
     "data": {
      "image/png": "[encoded data removed]",
      "text/plain": [
       "<Figure size 432x288 with 1 Axes>"
      ]
     },
     "metadata": {},
     "output_type": "display_data"
    }
   ],
   "source": [
    "# --------------------------------------------------------------------------------\n",
    "# Bayesian regression\n",
    "# --------------------------------------------------------------------------------\n",
    "f = gaussian(mean, sigma)\n",
    "PHI = np.array([phi(f, x) for x in X])\n",
    "\n",
    "Sigma_N = np.linalg.inv(alpha * np.identity(PHI.shape[1]) + beta * np.dot(PHI.T, PHI))\n",
    "mean_N = beta * np.dot(Sigma_N, np.dot(PHI.T, t))\n",
    "\n",
    "xlist = np.arange(0, MAX_X, 0.01) \n",
    "plt.plot(X, t, 'o', color='r') \n",
    "\n",
    "plt.title(\"Bayesian regression\")\n",
    "plt.plot(xlist, [np.dot(mean_N, phi(f, x)) for x in xlist], 'b') \n",
    "plt.show()"
   ]
  },
  {
   "cell_type": "markdown",
   "metadata": {},
   "source": [
    "## Predictive distribution"
   ]
  },
  {
   "cell_type": "code",
   "execution_count": 230,
   "metadata": {},
   "outputs": [
    {
     "data": {
      "image/png": "[encoded data removed]",
      "text/plain": [
       "<Figure size 432x288 with 1 Axes>"
      ]
     },
     "metadata": {},
     "output_type": "display_data"
    }
   ],
   "source": [
    "# --------------------------------------------------------------------------------\n",
    "# Predictive Distribution\n",
    "# --------------------------------------------------------------------------------\n",
    "def normal_dist_pdf(x, mean, var): \n",
    "    return np.exp(-(x-mean) ** 2 / (2 * var)) / np.sqrt(2 * np.pi * var)\n",
    "\n",
    "def quad_form(A, x):\n",
    "    return np.dot(x, np.dot(A, x))\n",
    "\n",
    "xlist = np.arange(0, MAX_X, 0.01)\n",
    "#tlist = np.arange(-1.5 * MAX_T, 1.5 * MAX_T, 0.01)\n",
    "tlist = np.arange(\n",
    "    np.mean(t) - (np.max(t)-np.min(t)), \n",
    "    np.mean(t) + (np.max(t)-np.min(t)), \n",
    "    0.01\n",
    ")\n",
    "z = np.array([\n",
    "    normal_dist_pdf(tlist, np.dot(mean_N, phi(f, x)),\n",
    "    1 / beta + quad_form(Sigma_N, phi(f, x))) for x in xlist\n",
    "]).T\n",
    "\n",
    "plt.contourf(xlist, tlist, z, 5, cmap=plt.cm.coolwarm)\n",
    "plt.title(\"Predictive distribution\")\n",
    "plt.plot(xlist, [np.dot(mean_N, phi(f, x)) for x in xlist], 'r')\n",
    "plt.plot(X, t, 'go')\n",
    "plt.show()"
   ]
  },
  {
   "cell_type": "markdown",
   "metadata": {},
   "source": [
    "# Linear regression for comparision"
   ]
  },
  {
   "cell_type": "code",
   "execution_count": 231,
   "metadata": {},
   "outputs": [
    {
     "data": {
      "image/png": "[encoded data removed]",
      "text/plain": [
       "<Figure size 432x288 with 1 Axes>"
      ]
     },
     "metadata": {},
     "output_type": "display_data"
    }
   ],
   "source": [
    "# --------------------------------------------------------------------------------\n",
    "# Linear regression\n",
    "# --------------------------------------------------------------------------------\n",
    "# w for linear regression parameter\n",
    "# w = np.linalg.solve(np.dot(PHI.T, PHI), np.dot(PHI.T, t))\n",
    "# --------------------------------------------------------------------------------\n",
    "#l = 0.01\n",
    "l = 0.1\n",
    "regularization = np.identity(PHI.shape[1])\n",
    "w = np.linalg.solve(\n",
    "    np.dot(PHI.T, PHI) + (l * regularization), \n",
    "    np.dot(PHI.T, t)\n",
    ")\n",
    "\n",
    "xlist = np.arange(0, MAX_X, 0.01) \n",
    "plt.plot(X, t, 'o', color='r') \n",
    "\n",
    "plt.title(\"Linear regression\")\n",
    "plt.plot(xlist, [np.dot(w, phi(f, x)) for x in xlist], 'g') \n",
    "plt.show()"
   ]
  }
 ],
 "metadata": {
  "kernelspec": {
   "display_name": "conda_python3",
   "language": "python",
   "name": "conda_python3"
  },
  "language_info": {
   "codemirror_mode": {
    "name": "ipython",
    "version": 3
   },
   "file_extension": ".py",
   "mimetype": "text/x-python",
   "name": "python",
   "nbconvert_exporter": "python",
   "pygments_lexer": "ipython3",
   "version": "3.6.5"
  }
 },
 "nbformat": 4,
 "nbformat_minor": 2
}
